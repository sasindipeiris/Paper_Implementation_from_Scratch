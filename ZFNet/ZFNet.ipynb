{
  "nbformat": 4,
  "nbformat_minor": 0,
  "metadata": {
    "colab": {
      "provenance": [],
      "gpuType": "V28"
    },
    "kernelspec": {
      "name": "python3",
      "display_name": "Python 3"
    },
    "language_info": {
      "name": "python"
    },
    "accelerator": "TPU"
  },
  "cells": [
    {
      "cell_type": "markdown",
      "source": [
        "# Imports"
      ],
      "metadata": {
        "id": "e_s_0OMMH8Yk"
      }
    },
    {
      "cell_type": "code",
      "source": [
        "!pip install torchsummary\n"
      ],
      "metadata": {
        "colab": {
          "base_uri": "https://localhost:8080/"
        },
        "id": "FZFSWgURKfOR",
        "outputId": "39f85b0d-b5e3-4e60-a0a7-f381c26f9294"
      },
      "execution_count": 3,
      "outputs": [
        {
          "output_type": "stream",
          "name": "stdout",
          "text": [
            "Collecting torchsummary\n",
            "  Downloading torchsummary-1.5.1-py3-none-any.whl.metadata (296 bytes)\n",
            "Downloading torchsummary-1.5.1-py3-none-any.whl (2.8 kB)\n",
            "Installing collected packages: torchsummary\n",
            "Successfully installed torchsummary-1.5.1\n"
          ]
        }
      ]
    },
    {
      "cell_type": "code",
      "source": [
        "import torch\n",
        "import torch.nn as nn\n",
        "import torch.nn.functional as F\n",
        "from torch.utils.data import Dataset,DataLoader\n",
        "import torchvision.transforms as transforms\n",
        "from torchsummary import summary\n",
        "import os\n",
        "from zipfile import ZipFile\n",
        "import urllib.request\n",
        "import numpy as np\n",
        "from matplotlib import pyplot as plt\n",
        "from PIL import Image\n",
        "from collections import OrderedDict\n"
      ],
      "metadata": {
        "id": "HX9uuFFcoubh"
      },
      "execution_count": 6,
      "outputs": []
    },
    {
      "cell_type": "markdown",
      "source": [
        "# Model"
      ],
      "metadata": {
        "id": "Xu2nFWzbIDnB"
      }
    },
    {
      "cell_type": "code",
      "execution_count": 32,
      "metadata": {
        "id": "HaZb7DF3DHxc"
      },
      "outputs": [],
      "source": [
        "class ZFNet(nn.Module):\n",
        "\n",
        "  def __init__(self):\n",
        "    super(ZFNet,self).__init__()\n",
        "\n",
        "    # CONV PART\n",
        "    self.features=nn.Sequential(OrderedDict([\n",
        "        ('conv1',nn.Conv2d(3,96,kernel_size=7,stride=2,padding=1)),\n",
        "        ('act1',nn.ReLU()),\n",
        "        ('pool1',nn.MaxPool2d(kernel_size=3,stride=2,padding=1,return_indices=True)),\n",
        "        ('conv2', nn.Conv2d(96, 256, kernel_size=5, stride=2, padding=0)),\n",
        "        ('act2', nn.ReLU()),\n",
        "        ('pool2', nn.MaxPool2d(kernel_size=3, stride=2, padding=1, return_indices=True)),\n",
        "        ('conv3', nn.Conv2d(256, 384, kernel_size=3, stride=1, padding=1)),\n",
        "        ('act3', nn.ReLU()),\n",
        "        ('conv4', nn.Conv2d(384, 384, kernel_size=3, stride=1, padding=1)),\n",
        "        ('act4', nn.ReLU()),\n",
        "        ('conv5', nn.Conv2d(384, 256, kernel_size=3, stride=1, padding=1)),\n",
        "        ('act5', nn.ReLU()),\n",
        "        ('pool5', nn.MaxPool2d(kernel_size=3, stride=2, padding=0, return_indices=True))\n",
        "        ]))\n",
        "\n",
        "    self.feature_outputs=[0]*len(self.features)\n",
        "    self.switch_indices=dict()\n",
        "    self.sizes=dict()\n",
        "\n",
        "    self.classifier=nn.Sequential(OrderedDict([\n",
        "        ('fc6',nn.Linear(9216,4096)),\n",
        "        ('act6',nn.ReLU()),\n",
        "        ('fc7',nn.Linear(4096,4096)),\n",
        "        ('act7',nn.ReLU()),\n",
        "        ('fc8',nn.Linear(4096,1000))\n",
        "    ]))\n",
        "\n",
        "    # DECONV PART\n",
        "\n",
        "    self.deconv_pool5=nn.MaxUnpool2d(kernel_size=3,stride=2,padding=0)\n",
        "    self.deconv_act5=nn.ReLU()\n",
        "    self.deconv_conv5=nn.ConvTranspose2d(256,384,kernel_size=3,stride=1,padding=1,bias=False)\n",
        "\n",
        "    self.deconv_act4 = nn.ReLU()\n",
        "    self.deconv_conv4 = nn.ConvTranspose2d(384,\n",
        "                                            384,\n",
        "                                               kernel_size=3,\n",
        "                                               stride=1,\n",
        "                                               padding=1,\n",
        "                                               bias=False)\n",
        "\n",
        "    self.deconv_act3 = nn.ReLU()\n",
        "    self.deconv_conv3 = nn.ConvTranspose2d(384,\n",
        "                                               256,\n",
        "                                               kernel_size=3,\n",
        "                                               stride=1,\n",
        "                                               padding=1,\n",
        "                                               bias=False)\n",
        "\n",
        "    self.deconv_pool2 = nn.MaxUnpool2d(kernel_size=3,\n",
        "                                           stride=2,\n",
        "                                           padding=1)\n",
        "    self.deconv_act2 = nn.ReLU()\n",
        "    self.deconv_conv2 = nn.ConvTranspose2d(256,\n",
        "                                               96,\n",
        "                                               kernel_size=5,\n",
        "                                               stride=2,\n",
        "                                               padding=0,\n",
        "                                               bias=False)\n",
        "\n",
        "    self.deconv_pool1 = nn.MaxUnpool2d(kernel_size=3,\n",
        "                                           stride=2,\n",
        "                                           padding=1)\n",
        "    self.deconv_act1 = nn.ReLU()\n",
        "    self.deconv_conv1 = nn.ConvTranspose2d(96,\n",
        "                                               3,\n",
        "                                               kernel_size=7,\n",
        "                                               stride=2,\n",
        "                                               padding=1,\n",
        "                                               bias=False)\n",
        "\n",
        "  def forward(self,x):\n",
        "    for i,layer in enumerate(self.features):\n",
        "      if isinstance(layer,nn.MaxPool2d):\n",
        "        self.sizes[i] = x.size()\n",
        "        x,indices =layer(x)\n",
        "        self.feature_outputs[i]=x\n",
        "        self.switch_indices[i]=indices\n",
        "      else:\n",
        "        x=layer(x)\n",
        "        self.feature_outputs[i]=x\n",
        "    return x\n",
        "\n",
        "  def forward_deconv(self,x,layer):\n",
        "    if layer < 1 or layer > 5:\n",
        "      raise Exception(\"ZFnet -> forward_deconv(): layer value should be between [1,5]\")\n",
        "\n",
        "    x=self.deconv_pool5(x,self.switch_indices[12],output_size=self.sizes[12])\n",
        "    x=self.deconv_act5(x)\n",
        "    x=self.deconv_conv5(x)\n",
        "\n",
        "    if layer ==1:\n",
        "      return x\n",
        "\n",
        "    x=self.deconv_act4(x)\n",
        "    x=self.deconv_conv4(x)\n",
        "\n",
        "    if layer ==2:\n",
        "      return x\n",
        "\n",
        "    x=self.deconv_act3(x)\n",
        "    x=self.deconv_conv3(x)\n",
        "\n",
        "    if layer ==3:\n",
        "      return x\n",
        "\n",
        "    x=self.deconv_pool2(x,self.switch_indices[5],output_size=self.sizes[5])\n",
        "    x=self.deconv_act2(x)\n",
        "    x=self.deconv_conv2(x)\n",
        "\n",
        "    if layer ==4:\n",
        "      return x\n",
        "\n",
        "    x=self.deconv_pool1(x,self.switch_indices[2],output_size=self.sizes[2])\n",
        "    x=self.deconv_act1(x)\n",
        "    x=self.deconv_conv1(x)\n",
        "\n",
        "    if layer ==5:\n",
        "      return x\n",
        "\n",
        "\n",
        "\n",
        "\n",
        "\n",
        "\n",
        "\n",
        "\n",
        "\n",
        ""
      ]
    },
    {
      "cell_type": "code",
      "source": [
        "model=ZFNet()\n",
        "summary(model,(3,224,224))"
      ],
      "metadata": {
        "colab": {
          "base_uri": "https://localhost:8080/"
        },
        "id": "SMGaQR35n7Ck",
        "outputId": "2c601c57-71ca-47fb-adfe-2dde054d0c01"
      },
      "execution_count": 3,
      "outputs": [
        {
          "output_type": "stream",
          "name": "stdout",
          "text": [
            "----------------------------------------------------------------\n",
            "        Layer (type)               Output Shape         Param #\n",
            "================================================================\n",
            "            Conv2d-1         [-1, 96, 110, 110]          14,208\n",
            "              ReLU-2         [-1, 96, 110, 110]               0\n",
            "         MaxPool2d-3  [[-1, 96, 55, 55], [-1, 96, 55, 55]]               0\n",
            "            Conv2d-4          [-1, 256, 26, 26]         614,656\n",
            "              ReLU-5          [-1, 256, 26, 26]               0\n",
            "         MaxPool2d-6  [[-1, 256, 13, 13], [-1, 256, 13, 13]]               0\n",
            "            Conv2d-7          [-1, 384, 13, 13]         885,120\n",
            "              ReLU-8          [-1, 384, 13, 13]               0\n",
            "            Conv2d-9          [-1, 384, 13, 13]       1,327,488\n",
            "             ReLU-10          [-1, 384, 13, 13]               0\n",
            "           Conv2d-11          [-1, 256, 13, 13]         884,992\n",
            "             ReLU-12          [-1, 256, 13, 13]               0\n",
            "        MaxPool2d-13  [[-1, 256, 6, 6], [-1, 256, 6, 6]]               0\n",
            "================================================================\n",
            "Total params: 3,726,464\n",
            "Trainable params: 3,726,464\n",
            "Non-trainable params: 0\n",
            "----------------------------------------------------------------\n",
            "Input size (MB): 0.57\n",
            "Forward/backward pass size (MB): 658308.81\n",
            "Params size (MB): 14.22\n",
            "Estimated Total Size (MB): 658323.60\n",
            "----------------------------------------------------------------\n"
          ]
        }
      ]
    }
  ]
}