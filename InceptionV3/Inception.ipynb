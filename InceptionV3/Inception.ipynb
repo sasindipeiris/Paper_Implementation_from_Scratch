{
  "nbformat": 4,
  "nbformat_minor": 0,
  "metadata": {
    "colab": {
      "provenance": []
    },
    "kernelspec": {
      "name": "python3",
      "display_name": "Python 3"
    },
    "language_info": {
      "name": "python"
    }
  },
  "cells": [
    {
      "cell_type": "code",
      "execution_count": 1,
      "metadata": {
        "id": "XpGtp5FnkgVO"
      },
      "outputs": [],
      "source": [
        "import torch\n",
        "import torch.nn as nn"
      ]
    },
    {
      "cell_type": "markdown",
      "source": [
        "# Label Smoothing Regularization"
      ],
      "metadata": {
        "id": "x05ivgxona_1"
      }
    },
    {
      "cell_type": "code",
      "source": [
        "class LabelSmoothing(nn.Module):\n",
        "  def __init__(self,num_classes=1000,smoothing=0.1):\n",
        "    super(LabelSmoothing,self).__init__()\n",
        "    self.smoothing=smoothing\n",
        "    self.k=num_classes\n",
        "\n",
        "  def forward(self,target,pred):\n",
        "      \"\"\"\n",
        "        pred (FloatTensor): [batch_size,n_classes]\n",
        "        target (LongTensor): [batch_size]\n",
        "        Ex- for batch_size=2\n",
        "        target = tensor([[1],\n",
        "                         [2]])\n",
        "        pred = tensor([[0.0200, 0.0200, 0.0200, 0.0200, 0.0200],\n",
        "                      [0.0200, 0.0200, 0.0200, 0.0200, 0.0200]])\n",
        "        output:-\n",
        "        tensor([[0.0200, 0.9200, 0.0200, 0.0200, 0.0200],\n",
        "                [0.0200, 0.0200, 0.9200, 0.0200, 0.0200]])\n",
        "        \"\"\"\n",
        "\n",
        "      batch_size=target.shape[0]\n",
        "      confidence=torch.as_tensor(batch_size*[1.0-smoothing]).unsqueeze(1)\n",
        "      q=torch.zeros_like(pred).fill_((self.smoothing/self.k)).scatter_(dim=1,index=target.unsqueeze(1),src=confidence,reduce='add')\n",
        "\n",
        "      return q\n"
      ],
      "metadata": {
        "id": "b9o8p_3znZVY"
      },
      "execution_count": 4,
      "outputs": []
    },
    {
      "cell_type": "markdown",
      "source": [
        "# Cross Entropy"
      ],
      "metadata": {
        "id": "k1Jwu3CNnakx"
      }
    },
    {
      "cell_type": "code",
      "source": [
        "class Loss_Inception_v3(nn.Module):\n",
        "  def __init__(self,K,smoothing):\n",
        "    super(Loss_Inception_v3,self).__init__()\n",
        "    self.lsr=LabelSmoothing(K,smoothing)\n",
        "\n",
        "  def forward(self,y,p):\n",
        "    '''\n",
        "    Params\n",
        "    y: true label value ---> batch_size\n",
        "    p: predicted by model ---> batch_size,num_classes\n",
        "    Return: Loss values using LabelSmoothing CrossEntropy\n",
        "\n",
        "    '''\n",
        "\n",
        "    q_dist=self.lsr(y,p) # Smoothed ground truth distribution\n",
        "    p_k_x=torch.log(torch.softmax(p,dim=1)) # the log-probabilities of the predicted classes\n",
        "    l=0\n",
        "    for i in range(p.shape[0]):\n",
        "      l+=torch.sum(p_k_x[i]*q_dist[i])\n",
        "\n",
        "    return l\n"
      ],
      "metadata": {
        "id": "CsqJ3Le0vMkc"
      },
      "execution_count": 5,
      "outputs": []
    },
    {
      "cell_type": "markdown",
      "source": [
        "# Grid Reduction"
      ],
      "metadata": {
        "id": "1oyA1u-t2Oo7"
      }
    },
    {
      "cell_type": "code",
      "source": [
        "class GridReduction(nn.Module):\n",
        "  def __init__(self,in_fts,out_fts):\n",
        "    super(GridReduction,self).__init__()\n",
        "\n",
        "    self.branch1=nn.Sequential(\n",
        "        nn.Conv2d(in_channels=in_fts,out_channels=out_fts,kernel_size=(3,3),stride=(2,2))\n",
        "\n",
        "    )\n",
        "\n",
        "    self.branch2=nn.Sequential(\n",
        "        nn.MaxPool2d(kernel_size=(3,3),stride=(2,2))\n",
        "    )\n",
        "\n",
        "    def forward(self,input_img):\n",
        "      o1=self.branch1(input_img)\n",
        "      o2=self.branch2(input_img)\n",
        "      x=torch.cat([o1,o2],dim=1)\n",
        "      return x"
      ],
      "metadata": {
        "id": "-g5lCGfr2W7W"
      },
      "execution_count": 6,
      "outputs": []
    },
    {
      "cell_type": "markdown",
      "source": [
        "# Inception Modules"
      ],
      "metadata": {
        "id": "wdh7Ag2D4n31"
      }
    },
    {
      "cell_type": "code",
      "source": [
        "class Inceptionx3(nn.Module):\n",
        "  def __init__(self,in_fts,out_fts):\n",
        "    super(Inceptionx3,self).__init__()\n",
        "\n",
        "    self.branch1=nn.Sequential(\n",
        "        nn.Conv2d(in_channels=in_fts, out_channels=out_fts[0], kernel_size=(1, 1), stride=(1, 1)),\n",
        "        nn.Conv2d(in_channels=out_fts[0], out_channels=out_fts[0], kernel_size=(3, 3), stride=(1, 1), padding=1),\n",
        "        nn.Conv2d(in_channels=out_fts[0], out_channels=out_fts[0], kernel_size=(3, 3), stride=(1, 1), padding=1)\n",
        "    )\n",
        "\n",
        "    self.branch2=nn.Sequential(\n",
        "        nn.Conv2d(in_channels=in_fts,out_channels=out_fts[1],kernel_size=(1,1),stride=(1,1)),\n",
        "        nn.Conv2d(in_channels=out_fts[1],out_channels=out_fts[1],kernel_size=(3,3),stride=(1,1),padding=1),\n",
        "\n",
        "    )\n",
        "\n",
        "    self.branch3=nn.Sequential(\n",
        "        nn.AvgPool2d(kernel_size=(3,3),stride=(1,1),padding=1),\n",
        "        nn.Conv2d(in_channels=in_fts,out_channels=out_fts[2],kernel_size=(1,1),stride=(1,1))\n",
        "    )\n",
        "    self.branch4=nn.Sequential(\n",
        "        nn.Conv2d(in_channels=in_fts,out_channels=out_fts[3],kernel_size=(1,1),stride=(1,1))\n",
        "    )\n",
        "\n",
        "    def forward(self,input_img):\n",
        "      o1=self.branch1(input_img)\n",
        "      o2=self.branch2(input_img)\n",
        "      o3=self.branch3(input_img)\n",
        "      o4=self.branch4(input_img)\n",
        "      x=torch.cat([o1,o2,o3,o4],dim=1)\n",
        "      return x\n",
        "\n"
      ],
      "metadata": {
        "id": "-K0Qz4Hf4rqf"
      },
      "execution_count": 7,
      "outputs": []
    },
    {
      "cell_type": "code",
      "source": [
        "class Inceptionx5(nn.Module):\n",
        "  def __init__(self,in_fts,out_fts,n=7):\n",
        "    super(Inceptionx5,self).__init__()\n",
        "\n",
        "    self.branch1=nn.Sequential(\n",
        "        nn.Conv2d(in_channels=in_fts,out_channels=out_fts[0],kernel_size=(1,1),stride_size=(1,1)),\n",
        "        nn.Conv2d(in_channels=out_fts[0],out_channels=out_fts[0],kernel_size=(1,n),stride=(1,1),padding=(0,n//2)),\n",
        "        nn.Conv2d(in_channels=out_fts[0], out_channels=out_fts[0], kernel_size=(n, 1), stride=(1, 1),padding=(n // 2, 0)),\n",
        "        nn.Conv2d(in_channels=out_fts[0], out_channels=out_fts[0], kernel_size=(1, n), stride=(1, 1),padding=(0, n // 2)),\n",
        "        nn.Conv2d(in_channels=out_fts[0], out_channels=out_fts[0], kernel_size=(n, 1), stride=(1,1),padding=(n // 2, 0)),\n",
        "    )\n",
        "\n",
        "    self.branch2=nn.Sequential(\n",
        "        nn.Conv2d(in_channels=in_fts,out_channels=out_fts[1],kernel_size=(1,1),stride=(1,1)),\n",
        "        nn.Conv2d(in_channels=out_fts[1],out_channels=out_fts[1],kernel_size=(1,n),stride=(1,1),padding=(0,n//2)),\n",
        "        nn.Conv2d(in_channels=out_fts[1],out_channels=out_fts[1],kernel_size=(n,1),stride=(1,1),padding=(n//2,0)),\n",
        "    )\n",
        "\n",
        "    self.branch3=nn.Sequential(\n",
        "        nn.AvgPool2d(kernel_size=(3,3),stride=(1,1),padding=1),\n",
        "        nn.Conv2d(in_channels=in_fts,out_channels=out_fts[2],kernel_size=(1,1),stride=(1,1))\n",
        "    )\n",
        "    self.branch4=nn.Sequential(\n",
        "        nn.Conv2d(in_channels=in_fts,out_channels=out_fts[3],kernel_size=(1,1),stride=(1,1))\n",
        "    )\n",
        "\n",
        "  def forward(self,input_img):\n",
        "    o1 = self.branch1(input_img)\n",
        "    o2 = self.branch2(input_img)\n",
        "    o3 = self.branch3(input_img)\n",
        "    o4 = self.branch4(input_img)\n",
        "    x = torch.cat([o1, o2, o3, o4], dim=1)\n",
        "    return x\n",
        "\n",
        "\n",
        "\n"
      ],
      "metadata": {
        "id": "mXXGJRBI9OM2"
      },
      "execution_count": 8,
      "outputs": []
    },
    {
      "cell_type": "code",
      "source": [
        "class Inceptionx2(nn.Module):\n",
        "  def __init__(self,in_fts,out_fts):\n",
        "    super(Inceptionx2,self).__init__()\n",
        "\n",
        "    self.branch1=nn.Sequential(\n",
        "        nn.Conv2d(in_channels=in_fts,out_channels=out_fts[0]//4,kernel_size=(1,1)),\n",
        "        nn.Conv2d(in_channels=out_fts[0]//4,out_channels=out_fts[0]//4,kernel_size=(3,3)),stride=(1,1),padding=1),\n",
        "    self.subbranch1_1=nn.Sequential(\n",
        "        nn.Conv2d(in_channels=out_fts[0]//4,out_channels=out_fts[0],kernel_size=(1,3),stride=(1,1),padding=(0,3//2)),\n",
        "    )\n",
        "    self.subbranch1_2=nn.Sequential(\n",
        "        nn.Conv2d(in_hannels=out_fts[0] // 4, out_channels=out_fts[1], kernel_size=(3, 1), stride=(1, 1),padding=(3 // 2, 0))\n",
        "    )\n",
        "\n",
        "    self.branch2=nn.Sequential(\n",
        "        nn.Conv2d(in_channels=in_fts,out_channels=out_fts[2]//4,kernel_size=(1,1),padding=(3//2,0))\n",
        "    )\n",
        "    self.subbranch2_1=nn.Sequential(\n",
        "        nn.Conv2d(in_channels=out_fts[2]//4,out_channels=out_fts[2],kernel_size=(1,3),stride=(1,1),padding=(0,3//2))\n",
        "    )\n",
        "    self.subbranch2_2=nn.Sequential(\n",
        "        nn.Conv2d(in_channels=out_fts[2]//4,out_channels=outs_fts[3],kernel_size=(3,1),padding=(3//2,0))\n",
        "    )\n",
        "\n",
        "    self.branch3=nn.Sequential(\n",
        "        nn.MaxPool2d(kernel_size=(3,3),stride=(1,1),padding=1),\n",
        "        nn.Conv2d(in_channels=in_fts,out_channels=out_fts[4],kernel_size=(1,1),stride=(1,1))\n",
        "    )\n",
        "\n",
        "    def forward(self, input_img):\n",
        "        o1 = self.branch1(input_img)\n",
        "        o11 = self.subbranch1_1(o1)\n",
        "        o12 = self.subbranch1_2(o1)\n",
        "        o2 = self.branch2(input_img)\n",
        "        o21 = self.subbranch2_1(o2)\n",
        "        o22 = self.subbranch2_2(o2)\n",
        "        o3 = self.branch3(input_img)\n",
        "        o4 = self.branch4(input_img)\n",
        "        x = torch.cat([o11, o12, o21, o22, o3, o4], dim=1)\n",
        "        return x\n",
        "\n"
      ],
      "metadata": {
        "id": "5ZXecNTkCK5T"
      },
      "execution_count": 9,
      "outputs": []
    },
    {
      "cell_type": "markdown",
      "source": [
        "# Auxiliary Classifier"
      ],
      "metadata": {
        "id": "YoYCn4wWNj1I"
      }
    },
    {
      "cell_type": "code",
      "source": [
        "class AuxClassifier(nn.Module):\n",
        "  def __init__(self,in_fts,num_classes):\n",
        "    super(AuxClassifier,self).__init__()\n",
        "    self.pool=nn.AdaptiveAvgPool2d(output_size=(5,5))\n",
        "    self.conv=nn.Conv2d(in_channels=in_fts,out_channels=128,kernel_size=(1,1))\n",
        "    self.classifier=nn.Sequential(\n",
        "        nn.Linear(5*5*128,1024),\n",
        "        nn.BatchNorm1d(num_features=1024),\n",
        "        nn.Linear(1024,num_classes)\n",
        "    )\n",
        "\n",
        "  def forward(self,x):\n",
        "    N=x.shape[0]\n",
        "    x=self.pool(x)\n",
        "    x=x.self.conv(x)\n",
        "    x=x.reshape(N,-1)\n",
        "    x=self.classifier(x)\n",
        "    return x"
      ],
      "metadata": {
        "id": "wdAmAQqONrbg"
      },
      "execution_count": 10,
      "outputs": []
    },
    {
      "cell_type": "markdown",
      "source": [
        "# Inception Class"
      ],
      "metadata": {
        "id": "Neuu_R3sRQYP"
      }
    },
    {
      "cell_type": "code",
      "source": [
        "class MyInception_v3(nn.Module):\n",
        "  def __init__(self,in_fts=3,num_classes=1000):\n",
        "    super(MyInception_v3,self).__init__()\n",
        "\n",
        "    self.conv1=nn.Sequential(\n",
        "        nn.Conv2d(in_channels=in_fts,out_channels=32,kernel_size=(3,3),stride=(2,2)),\n",
        "        nn.BatchNorm2d(num_features=32)\n",
        "    )\n",
        "\n",
        "    self.conv2=nn.Sequential(\n",
        "        nn.Conv2d(in_channels=32, out_channels=32, kernel_size=(3, 3), stride=(1, 1)),\n",
        "        nn.BatchNorm2d(num_features=32)\n",
        "\n",
        "    )\n",
        "    self.conv3 = nn.Sequential(\n",
        "        nn.Conv2d(in_channels=32, out_channels=64, kernel_size=(3, 3), stride=(1, 1), padding=1),\n",
        "        nn.BatchNorm2d(num_features=64)\n",
        "    )\n",
        "    self.pool = nn.MaxPool2d(kernel_size=(3, 3), stride=(2, 2))\n",
        "    self.conv4 = nn.Conv2d(in_channels=64, out_channels=80, kernel_size=(3, 3), stride=(1, 1))\n",
        "    self.conv5 = nn.Conv2d(in_channels=80, out_channels=192, kernel_size=(3, 3), stride=(2, 2))\n",
        "    self.conv6 = nn.Conv2d(in_channels=192, out_channels=288, kernel_size=(3, 3), stride=(1, 1), padding=1)\n",
        "\n",
        "    list_incept = [Inceptionx3(in_fts=288, out_fts=[96, 96, 96, 96]),\n",
        "                   Inceptionx3(in_fts=4 * 96, out_fts=[96, 96, 96, 96]),\n",
        "                   Inceptionx3(in_fts=4 * 96, out_fts=[96, 96, 96, 96])]\n",
        "\n",
        "    self.inceptx3 = nn.Sequential(*list_incept)\n",
        "    self.grid_redn_1 = GridReduction(in_fts=4 * 96, out_fts=384)\n",
        "    self.aux_classifier = AuxClassifier(768, num_classes)\n",
        "\n",
        "    list_incept = [Inceptionx5(in_fts=768, out_fts=[160, 160, 160, 160]),\n",
        "                   Inceptionx5(in_fts=4 * 160, out_fts=[160, 160, 160, 160]),\n",
        "                   Inceptionx5(in_fts=4 * 160, out_fts=[160, 160, 160, 160]),\n",
        "                   Inceptionx5(in_fts=4 * 160, out_fts=[160, 160, 160, 160]),\n",
        "                   Inceptionx5(in_fts=4 * 160, out_fts=[160, 160, 160, 160])]\n",
        "\n",
        "    self.inceptx5 = nn.Sequential(*list_incept)\n",
        "    self.grid_redn_2 = GridReduction(in_fts=4 * 160, out_fts=640)\n",
        "\n",
        "    list_incept = [Inceptionx2(in_fts=1280, out_fts=[256, 256, 192, 192, 64, 64]),\n",
        "                  Inceptionx2(in_fts=1024, out_fts=[384, 384, 384, 384, 256, 256])]\n",
        "\n",
        "    self.inceptx2 = nn.Sequential(*list_incept)\n",
        "    self.avgpool = nn.AdaptiveAvgPool2d(output_size=(1, 1))\n",
        "    self.fc = nn.Linear(2048, num_classes)\n",
        "\n",
        "  def forward(self,input_img):\n",
        "    N=input_img.shape[0]\n",
        "    x=self.conv1(input_img)\n",
        "    x=self.conv2(x)\n",
        "    x=self.conv3(x)\n",
        "    x=self.pool(x)\n",
        "    x=self.conv4(x)\n",
        "    x=self.conv5(x)\n",
        "    x=self.conv6(x)\n",
        "    x=self.inceptx3(x)\n",
        "    x=self.grid_redn_1(x)\n",
        "    aux_out=self.aux_classifier(x)\n",
        "    x=self.inceptx5(x)\n",
        "    x=self.grid_redn_2(x)\n",
        "    x=self.inceptx2(x)\n",
        "    x=self.avgpool(N,-1)\n",
        "    x=self.fc(x)\n",
        "    if self.training:\n",
        "      return[x,aux_out]\n",
        "    else:\n",
        "      return x\n",
        "\n",
        "\n",
        "if __name__ =='_main_':\n",
        "  K=10\n",
        "  smoothing=0.1\n",
        "  batch_size=2\n",
        "\n",
        "  x=torch.randn((batch_size,3,299,299))\n",
        "  y=torch.randint(low=0,high=K,size=(batch_size,))\n",
        "\n",
        "  m=MyInception_v3(num_classes=K)\n",
        "\n",
        "  m.eval()\n",
        "  result=m(x)\n",
        "\n",
        "  loss=Loss_Inception_v3(K,smoothing)\n",
        "  print(loss(y,result))\n",
        "\n",
        "\n"
      ],
      "metadata": {
        "id": "F4kYMq5sRT6n"
      },
      "execution_count": 14,
      "outputs": []
    }
  ]
}