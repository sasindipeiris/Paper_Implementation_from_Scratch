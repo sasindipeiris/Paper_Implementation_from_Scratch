{
  "nbformat": 4,
  "nbformat_minor": 0,
  "metadata": {
    "colab": {
      "provenance": []
    },
    "kernelspec": {
      "name": "python3",
      "display_name": "Python 3"
    },
    "language_info": {
      "name": "python"
    }
  },
  "cells": [
    {
      "cell_type": "markdown",
      "source": [
        "Installs the 🤗 Hugging Face diffusers library.\n",
        "\n",
        "This library provides tools to train, run, and customize diffusion models, which are used in state-of-the-art generative models like Stable Diffusion.\n",
        "\n"
      ],
      "metadata": {
        "id": "dr2VDF79dgQM"
      }
    },
    {
      "cell_type": "code",
      "execution_count": null,
      "metadata": {
        "id": "Nv6zK-J1Z8be"
      },
      "outputs": [],
      "source": [
        "%pip install -q diffusers"
      ]
    },
    {
      "cell_type": "markdown",
      "source": [
        "\n",
        "\n",
        "\n",
        "\n",
        "\n",
        "1. **`DDPMScheduler`** (Denoising Diffusion Probabilistic Models Scheduler)\n",
        "\n",
        "* **What it is**: A scheduler that defines the noise schedule (i.e., how noise is added/removed) during training and inference in a DDPM (Denoising Diffusion Probabilistic Model).\n",
        "* **Role**: Controls the **forward diffusion process** (adding noise) and the **reverse denoising process** (sampling).\n",
        "* **Key parameters**: `num_train_timesteps`, `beta_start`, `beta_end`, `schedule` type (linear, cosine, etc.)\n",
        "\n",
        "2. **`UNet2DModel`**\n",
        "\n",
        "* **What it is**: A 2D **U-Net architecture** used to predict noise in images during the reverse diffusion process.\n",
        "* **Role**: The **core model** that learns to remove noise from images, timestep by timestep.\n",
        "* **Input**: A noisy image, timestep `t`, and sometimes a conditioning input (e.g., text embedding in Stable Diffusion).\n",
        "* **Output**: Predicted noise (or image residual), used to denoise the sample.\n",
        "\n",
        "\n",
        "\n",
        "| Component       | Purpose                                           |\n",
        "| --------------- | ------------------------------------------------- |\n",
        "| `DDPMScheduler` | Schedules the noise levels at each timestep       |\n",
        "| `UNet2DModel`   | Predicts and removes noise (main denoising model) |\n",
        "\n",
        "These are the **building blocks** for a diffusion model pipeline that generates or reconstructs images from noise.\n",
        "\n",
        "\n"
      ],
      "metadata": {
        "id": "xyioPLhHgfSV"
      }
    },
    {
      "cell_type": "code",
      "source": [
        "import torch\n",
        "import torchvision\n",
        "from torch import nn\n",
        "from torch.nn import functional as F\n",
        "from torch.utils.data import DataLoader\n",
        "from diffusers import DDPMScheduler, UNet2DModel\n",
        "from matplotlib import pyplot as plt\n",
        "\n",
        "device=torch.device(\"cuda\" if torch.cuda.is_available() else \"cpu\")\n",
        "print(f\"Using device: {device}\")\n"
      ],
      "metadata": {
        "colab": {
          "base_uri": "https://localhost:8080/"
        },
        "id": "1DmHTQ-Xb8Uo",
        "outputId": "5c3b68ff-98f8-4e98-a01d-afdbacc7c9fe"
      },
      "execution_count": 1,
      "outputs": [
        {
          "output_type": "stream",
          "name": "stdout",
          "text": [
            "Using device: cpu\n"
          ]
        }
      ]
    },
    {
      "cell_type": "markdown",
      "source": [
        "# The Data"
      ],
      "metadata": {
        "id": "tebIgy7Mg4kL"
      }
    },
    {
      "cell_type": "code",
      "source": [
        "dataset=torchvision.datasets.MNIST(root=\"mnist/\",train=True,download=True,transform=torchvision.transforms.ToTensor())"
      ],
      "metadata": {
        "colab": {
          "base_uri": "https://localhost:8080/"
        },
        "id": "bAn7FK-kg7bt",
        "outputId": "28254c69-1e0e-4f9c-a6e1-f9777171e6eb"
      },
      "execution_count": 3,
      "outputs": [
        {
          "output_type": "stream",
          "name": "stderr",
          "text": [
            "100%|██████████| 9.91M/9.91M [00:00<00:00, 57.9MB/s]\n",
            "100%|██████████| 28.9k/28.9k [00:00<00:00, 1.72MB/s]\n",
            "100%|██████████| 1.65M/1.65M [00:00<00:00, 14.4MB/s]\n",
            "100%|██████████| 4.54k/4.54k [00:00<00:00, 7.05MB/s]\n"
          ]
        }
      ]
    },
    {
      "cell_type": "code",
      "source": [
        "train_dataloader=DataLoader(dataset,batch_size=8,shuffle=True)"
      ],
      "metadata": {
        "id": "DX-wGrvhiHnn"
      },
      "execution_count": 4,
      "outputs": []
    },
    {
      "cell_type": "code",
      "source": [
        "x,y = next(iter(train_dataloader))\n",
        "print(\"Input shape:\",x.shape)\n",
        "print(\"Labels:\",y)\n",
        "plt.imshow(torchvision.utils.make_grid(x)[0],cmap=\"Greys\")"
      ],
      "metadata": {
        "id": "3vVFo9raiS1p",
        "colab": {
          "base_uri": "https://localhost:8080/",
          "height": 184
        },
        "outputId": "e854e079-7c29-4ba7-c668-c809782d0786"
      },
      "execution_count": 5,
      "outputs": [
        {
          "output_type": "stream",
          "name": "stdout",
          "text": [
            "Input shape: torch.Size([8, 1, 28, 28])\n",
            "Labels: tensor([7, 3, 7, 0, 1, 3, 2, 4])\n"
          ]
        },
        {
          "output_type": "execute_result",
          "data": {
            "text/plain": [
              "<matplotlib.image.AxesImage at 0x7be48de56b50>"
            ]
          },
          "metadata": {},
          "execution_count": 5
        },
        {
          "output_type": "display_data",
          "data": {
            "text/plain": [
              "<Figure size 640x480 with 1 Axes>"
            ],
            "image/png": "[encoded data removed]"
          },
          "metadata": {}
        }
      ]
    },
    {
      "cell_type": "markdown",
      "source": [
        "# The Corruption Process"
      ],
      "metadata": {
        "id": "9OPj9yq_plN6"
      }
    },
    {
      "cell_type": "markdown",
      "source": [
        "| Index | Meaning               | Size                                |\n",
        "| ----- | --------------------- | ----------------------------------- |\n",
        "| 0     | Batch size (inferred) | `-1` means infer from current shape |\n",
        "| 1     | Channel dimension     | 1                                   |\n",
        "| 2     | Height                | 1                                   |\n",
        "| 3     | Width                 | 1                                   |\n"
      ],
      "metadata": {
        "id": "HD_K3uG3q-Gz"
      }
    },
    {
      "cell_type": "code",
      "source": [
        "def corrupt(x,amount):\n",
        "  noise=torch.rand_like(x)\n",
        "  amount=amount.view(-1,1,1,1)\n",
        "  return x*(1-amount)+noise*amount"
      ],
      "metadata": {
        "id": "F7RZDHvsppxH"
      },
      "execution_count": 6,
      "outputs": []
    },
    {
      "cell_type": "code",
      "source": [
        "# Plotting the input data\n",
        "fig,axs=plt.subplots(2,1,figsize=(12,5))\n",
        "axs[0].set_title(\"Input data\")\n",
        "axs[0].imshow(torchvision.utils.make_grid(x)[0],cmap=\"Greys\")\n",
        "\n",
        "#Adding noise\n",
        "amount=torch.linspace(0,1,x.shape[0])\n",
        "noised_x=corrupt(x,amount)\n",
        "\n",
        "#Plotting the noised version\n",
        "axs[1].set_title(\"Corrupted data\")\n",
        "axs[1].imshow(torchvision.utils.make_grid(noised_x)[0],cmap=\"Greys\")"
      ],
      "metadata": {
        "id": "xuPCmMs2qJCD",
        "colab": {
          "base_uri": "https://localhost:8080/",
          "height": 301
        },
        "outputId": "d0eabe51-7cc3-4e33-aa06-cff097121fe3"
      },
      "execution_count": 8,
      "outputs": [
        {
          "output_type": "execute_result",
          "data": {
            "text/plain": [
              "<matplotlib.image.AxesImage at 0x7be31856d250>"
            ]
          },
          "metadata": {},
          "execution_count": 8
        },
        {
          "output_type": "display_data",
          "data": {
            "text/plain": [
              "<Figure size 1200x500 with 2 Axes>"
            ],
            "image/png": "[encoded data removed]"
          },
          "metadata": {}
        }
      ]
    },
    {
      "cell_type": "markdown",
      "source": [
        "# The Model"
      ],
      "metadata": {
        "id": "8GTnMbHNstTj"
      }
    },
    {
      "cell_type": "code",
      "source": [
        "class BasicUNet(nn.Module):\n",
        "  def __init__(self,in_channels=1,out_channels=1):\n",
        "    super().__init__()\n",
        "    self.down_layers=torch.nn.ModuleList(\n",
        "        [\n",
        "            nn.Conv2d(in_channels,32,kernel_size=5,padding=2),\n",
        "            nn.Conv2d(32,64,kernel_size=5,padding=2),\n",
        "            nn.Conv2d(64,64,kernel_size=5,padding=2),\n",
        "        ]\n",
        "    )\n",
        "    self.up_layers=torch.nn.ModuleList(\n",
        "        [\n",
        "            nn.Conv2d(64,64,kernel_size=5,padding=2),\n",
        "            nn.Conv2d(64,32,kernel_size=5,padding=2),\n",
        "            nn.Conv2d(32,out_channels,kernel_size=5,padding=2),\n",
        "        ]\n",
        "    )\n",
        "    self.act=nn.SiLU()\n",
        "    self.downscale=nn.MaxPool2d(2)\n",
        "    self.upscale=nn.Upsample(scale_factor=2)\n",
        "\n",
        "  def forward(self,x):\n",
        "    h=[]\n",
        "    for i,l in enumerate(self.down_layers):\n",
        "      x=self.act(l(x)) # Through the layer and the activation function\n",
        "      if i<2: # For all but the third(final) down layer:\n",
        "        h.append(x) # Storing output for skip connection\n",
        "        x=self.downscale(x) #Downscale ready for the next layer\n",
        "\n",
        "    for i,l in enumerate(self.up_layers):\n",
        "      if i>0 : # For all except the first up layer\n",
        "          x=self.upscale(x)\n",
        "          x+=h.pop() # Fetching stored output(skip connection)\n",
        "      x=self.act(l(x))\n",
        "    return x\n",
        "\n"
      ],
      "metadata": {
        "id": "TcaUomN-swE8"
      },
      "execution_count": 13,
      "outputs": []
    },
    {
      "cell_type": "code",
      "source": [
        "net=BasicUNet()\n",
        "x=torch.rand(8,1,28,28)\n",
        "net(x).shape"
      ],
      "metadata": {
        "id": "sh2a1bduwz4v",
        "colab": {
          "base_uri": "https://localhost:8080/"
        },
        "outputId": "c0a8bc49-c94e-4b28-f72d-4a24b61994d2"
      },
      "execution_count": 14,
      "outputs": [
        {
          "output_type": "execute_result",
          "data": {
            "text/plain": [
              "torch.Size([8, 1, 28, 28])"
            ]
          },
          "metadata": {},
          "execution_count": 14
        }
      ]
    },
    {
      "cell_type": "code",
      "source": [
        "sum([p.numel() for p in net.parameters()])"
      ],
      "metadata": {
        "id": "TsYjSw7oxABT",
        "colab": {
          "base_uri": "https://localhost:8080/"
        },
        "outputId": "0e627081-ca97-4f9b-8aec-740834cba4fd"
      },
      "execution_count": 15,
      "outputs": [
        {
          "output_type": "execute_result",
          "data": {
            "text/plain": [
              "309057"
            ]
          },
          "metadata": {},
          "execution_count": 15
        }
      ]
    },
    {
      "cell_type": "markdown",
      "source": [
        "# Training the network"
      ],
      "metadata": {
        "id": "uPo9SIyrxH70"
      }
    },
    {
      "cell_type": "code",
      "source": [
        "batch_size=128\n",
        "train_dataloader=DataLoader(dataset,batch_size=batch_size,shuffle=True)\n",
        "n_epochs=3\n",
        "\n",
        "net=BasicUNet()\n",
        "net.to(device)\n",
        "\n",
        "loss_fn=nn.MSELoss()\n",
        "opt=torch.optim.Adam(net.parameters(),lr=1e-3)\n",
        "\n",
        "losses=[]\n",
        "\n",
        "for epoch in range(n_epochs):\n",
        "  for x,y in train_dataloader:\n",
        "    x=x.to(device)\n",
        "    noise_amount=torch.rand(x.shape[0]).to(device)\n",
        "    noise_x=corrupt(x,noise_amount)\n",
        "\n",
        "    pred=net(noise_x)\n",
        "    loss=loss_fn(pred,x)\n",
        "\n",
        "    opt.zero_grad()\n",
        "    loss.backward()\n",
        "    opt.step()\n",
        "\n",
        "    losses.append(loss.item())\n",
        "\n",
        "  avg_loss=sum(losses[-len(train_dataloader):])/len(train_dataloader)\n",
        "  print(f\"Finished epoch {epoch}.Average loss for this epoch:{avg_loss:05f}\")\n",
        "\n",
        "plt.plot(losses)\n",
        "ply.ylim(0,0.1)\n",
        "\n"
      ],
      "metadata": {
        "id": "G01ou39PxLNR",
        "colab": {
          "base_uri": "https://localhost:8080/",
          "height": 406
        },
        "outputId": "4eab6554-9fc2-4b77-f8ee-a1f9624ae314"
      },
      "execution_count": 19,
      "outputs": [
        {
          "output_type": "error",
          "ename": "KeyboardInterrupt",
          "evalue": "",
          "traceback": [
            "\u001b[0;31m---------------------------------------------------------------------------\u001b[0m",
            "\u001b[0;31mKeyboardInterrupt\u001b[0m                         Traceback (most recent call last)",
            "\u001b[0;32m/tmp/ipython-input-2805496129.py\u001b[0m in \u001b[0;36m<cell line: 0>\u001b[0;34m()\u001b[0m\n\u001b[1;32m     17\u001b[0m     \u001b[0mnoise_x\u001b[0m\u001b[0;34m=\u001b[0m\u001b[0mcorrupt\u001b[0m\u001b[0;34m(\u001b[0m\u001b[0mx\u001b[0m\u001b[0;34m,\u001b[0m\u001b[0mnoise_amount\u001b[0m\u001b[0;34m)\u001b[0m\u001b[0;34m\u001b[0m\u001b[0;34m\u001b[0m\u001b[0m\n\u001b[1;32m     18\u001b[0m \u001b[0;34m\u001b[0m\u001b[0m\n\u001b[0;32m---> 19\u001b[0;31m     \u001b[0mpred\u001b[0m\u001b[0;34m=\u001b[0m\u001b[0mnet\u001b[0m\u001b[0;34m(\u001b[0m\u001b[0mnoise_x\u001b[0m\u001b[0;34m)\u001b[0m\u001b[0;34m\u001b[0m\u001b[0;34m\u001b[0m\u001b[0m\n\u001b[0m\u001b[1;32m     20\u001b[0m     \u001b[0mloss\u001b[0m\u001b[0;34m=\u001b[0m\u001b[0mloss_fn\u001b[0m\u001b[0;34m(\u001b[0m\u001b[0mpred\u001b[0m\u001b[0;34m,\u001b[0m\u001b[0mx\u001b[0m\u001b[0;34m)\u001b[0m\u001b[0;34m\u001b[0m\u001b[0;34m\u001b[0m\u001b[0m\n\u001b[1;32m     21\u001b[0m \u001b[0;34m\u001b[0m\u001b[0m\n",
            "\u001b[0;32m/usr/local/lib/python3.11/dist-packages/torch/nn/modules/module.py\u001b[0m in \u001b[0;36m_wrapped_call_impl\u001b[0;34m(self, *args, **kwargs)\u001b[0m\n\u001b[1;32m   1737\u001b[0m             \u001b[0;32mreturn\u001b[0m \u001b[0mself\u001b[0m\u001b[0;34m.\u001b[0m\u001b[0m_compiled_call_impl\u001b[0m\u001b[0;34m(\u001b[0m\u001b[0;34m*\u001b[0m\u001b[0margs\u001b[0m\u001b[0;34m,\u001b[0m \u001b[0;34m**\u001b[0m\u001b[0mkwargs\u001b[0m\u001b[0;34m)\u001b[0m  \u001b[0;31m# type: ignore[misc]\u001b[0m\u001b[0;34m\u001b[0m\u001b[0;34m\u001b[0m\u001b[0m\n\u001b[1;32m   1738\u001b[0m         \u001b[0;32melse\u001b[0m\u001b[0;34m:\u001b[0m\u001b[0;34m\u001b[0m\u001b[0;34m\u001b[0m\u001b[0m\n\u001b[0;32m-> 1739\u001b[0;31m             \u001b[0;32mreturn\u001b[0m \u001b[0mself\u001b[0m\u001b[0;34m.\u001b[0m\u001b[0m_call_impl\u001b[0m\u001b[0;34m(\u001b[0m\u001b[0;34m*\u001b[0m\u001b[0margs\u001b[0m\u001b[0;34m,\u001b[0m \u001b[0;34m**\u001b[0m\u001b[0mkwargs\u001b[0m\u001b[0;34m)\u001b[0m\u001b[0;34m\u001b[0m\u001b[0;34m\u001b[0m\u001b[0m\n\u001b[0m\u001b[1;32m   1740\u001b[0m \u001b[0;34m\u001b[0m\u001b[0m\n\u001b[1;32m   1741\u001b[0m     \u001b[0;31m# torchrec tests the code consistency with the following code\u001b[0m\u001b[0;34m\u001b[0m\u001b[0;34m\u001b[0m\u001b[0m\n",
            "\u001b[0;32m/usr/local/lib/python3.11/dist-packages/torch/nn/modules/module.py\u001b[0m in \u001b[0;36m_call_impl\u001b[0;34m(self, *args, **kwargs)\u001b[0m\n\u001b[1;32m   1748\u001b[0m                 \u001b[0;32mor\u001b[0m \u001b[0m_global_backward_pre_hooks\u001b[0m \u001b[0;32mor\u001b[0m \u001b[0m_global_backward_hooks\u001b[0m\u001b[0;34m\u001b[0m\u001b[0;34m\u001b[0m\u001b[0m\n\u001b[1;32m   1749\u001b[0m                 or _global_forward_hooks or _global_forward_pre_hooks):\n\u001b[0;32m-> 1750\u001b[0;31m             \u001b[0;32mreturn\u001b[0m \u001b[0mforward_call\u001b[0m\u001b[0;34m(\u001b[0m\u001b[0;34m*\u001b[0m\u001b[0margs\u001b[0m\u001b[0;34m,\u001b[0m \u001b[0;34m**\u001b[0m\u001b[0mkwargs\u001b[0m\u001b[0;34m)\u001b[0m\u001b[0;34m\u001b[0m\u001b[0;34m\u001b[0m\u001b[0m\n\u001b[0m\u001b[1;32m   1751\u001b[0m \u001b[0;34m\u001b[0m\u001b[0m\n\u001b[1;32m   1752\u001b[0m         \u001b[0mresult\u001b[0m \u001b[0;34m=\u001b[0m \u001b[0;32mNone\u001b[0m\u001b[0;34m\u001b[0m\u001b[0;34m\u001b[0m\u001b[0m\n",
            "\u001b[0;32m/tmp/ipython-input-2580505288.py\u001b[0m in \u001b[0;36mforward\u001b[0;34m(self, x)\u001b[0m\n\u001b[1;32m     32\u001b[0m           \u001b[0mx\u001b[0m\u001b[0;34m=\u001b[0m\u001b[0mself\u001b[0m\u001b[0;34m.\u001b[0m\u001b[0mupscale\u001b[0m\u001b[0;34m(\u001b[0m\u001b[0mx\u001b[0m\u001b[0;34m)\u001b[0m\u001b[0;34m\u001b[0m\u001b[0;34m\u001b[0m\u001b[0m\n\u001b[1;32m     33\u001b[0m           \u001b[0mx\u001b[0m\u001b[0;34m+=\u001b[0m\u001b[0mh\u001b[0m\u001b[0;34m.\u001b[0m\u001b[0mpop\u001b[0m\u001b[0;34m(\u001b[0m\u001b[0;34m)\u001b[0m \u001b[0;31m# Fetching stored output(skip connection)\u001b[0m\u001b[0;34m\u001b[0m\u001b[0;34m\u001b[0m\u001b[0m\n\u001b[0;32m---> 34\u001b[0;31m       \u001b[0mx\u001b[0m\u001b[0;34m=\u001b[0m\u001b[0mself\u001b[0m\u001b[0;34m.\u001b[0m\u001b[0mact\u001b[0m\u001b[0;34m(\u001b[0m\u001b[0ml\u001b[0m\u001b[0;34m(\u001b[0m\u001b[0mx\u001b[0m\u001b[0;34m)\u001b[0m\u001b[0;34m)\u001b[0m\u001b[0;34m\u001b[0m\u001b[0;34m\u001b[0m\u001b[0m\n\u001b[0m\u001b[1;32m     35\u001b[0m     \u001b[0;32mreturn\u001b[0m \u001b[0mx\u001b[0m\u001b[0;34m\u001b[0m\u001b[0;34m\u001b[0m\u001b[0m\n\u001b[1;32m     36\u001b[0m \u001b[0;34m\u001b[0m\u001b[0m\n",
            "\u001b[0;32m/usr/local/lib/python3.11/dist-packages/torch/nn/modules/module.py\u001b[0m in \u001b[0;36m_wrapped_call_impl\u001b[0;34m(self, *args, **kwargs)\u001b[0m\n\u001b[1;32m   1737\u001b[0m             \u001b[0;32mreturn\u001b[0m \u001b[0mself\u001b[0m\u001b[0;34m.\u001b[0m\u001b[0m_compiled_call_impl\u001b[0m\u001b[0;34m(\u001b[0m\u001b[0;34m*\u001b[0m\u001b[0margs\u001b[0m\u001b[0;34m,\u001b[0m \u001b[0;34m**\u001b[0m\u001b[0mkwargs\u001b[0m\u001b[0;34m)\u001b[0m  \u001b[0;31m# type: ignore[misc]\u001b[0m\u001b[0;34m\u001b[0m\u001b[0;34m\u001b[0m\u001b[0m\n\u001b[1;32m   1738\u001b[0m         \u001b[0;32melse\u001b[0m\u001b[0;34m:\u001b[0m\u001b[0;34m\u001b[0m\u001b[0;34m\u001b[0m\u001b[0m\n\u001b[0;32m-> 1739\u001b[0;31m             \u001b[0;32mreturn\u001b[0m \u001b[0mself\u001b[0m\u001b[0;34m.\u001b[0m\u001b[0m_call_impl\u001b[0m\u001b[0;34m(\u001b[0m\u001b[0;34m*\u001b[0m\u001b[0margs\u001b[0m\u001b[0;34m,\u001b[0m \u001b[0;34m**\u001b[0m\u001b[0mkwargs\u001b[0m\u001b[0;34m)\u001b[0m\u001b[0;34m\u001b[0m\u001b[0;34m\u001b[0m\u001b[0m\n\u001b[0m\u001b[1;32m   1740\u001b[0m \u001b[0;34m\u001b[0m\u001b[0m\n\u001b[1;32m   1741\u001b[0m     \u001b[0;31m# torchrec tests the code consistency with the following code\u001b[0m\u001b[0;34m\u001b[0m\u001b[0;34m\u001b[0m\u001b[0m\n",
            "\u001b[0;32m/usr/local/lib/python3.11/dist-packages/torch/nn/modules/module.py\u001b[0m in \u001b[0;36m_call_impl\u001b[0;34m(self, *args, **kwargs)\u001b[0m\n\u001b[1;32m   1748\u001b[0m                 \u001b[0;32mor\u001b[0m \u001b[0m_global_backward_pre_hooks\u001b[0m \u001b[0;32mor\u001b[0m \u001b[0m_global_backward_hooks\u001b[0m\u001b[0;34m\u001b[0m\u001b[0;34m\u001b[0m\u001b[0m\n\u001b[1;32m   1749\u001b[0m                 or _global_forward_hooks or _global_forward_pre_hooks):\n\u001b[0;32m-> 1750\u001b[0;31m             \u001b[0;32mreturn\u001b[0m \u001b[0mforward_call\u001b[0m\u001b[0;34m(\u001b[0m\u001b[0;34m*\u001b[0m\u001b[0margs\u001b[0m\u001b[0;34m,\u001b[0m \u001b[0;34m**\u001b[0m\u001b[0mkwargs\u001b[0m\u001b[0;34m)\u001b[0m\u001b[0;34m\u001b[0m\u001b[0;34m\u001b[0m\u001b[0m\n\u001b[0m\u001b[1;32m   1751\u001b[0m \u001b[0;34m\u001b[0m\u001b[0m\n\u001b[1;32m   1752\u001b[0m         \u001b[0mresult\u001b[0m \u001b[0;34m=\u001b[0m \u001b[0;32mNone\u001b[0m\u001b[0;34m\u001b[0m\u001b[0;34m\u001b[0m\u001b[0m\n",
            "\u001b[0;32m/usr/local/lib/python3.11/dist-packages/torch/nn/modules/conv.py\u001b[0m in \u001b[0;36mforward\u001b[0;34m(self, input)\u001b[0m\n\u001b[1;32m    552\u001b[0m \u001b[0;34m\u001b[0m\u001b[0m\n\u001b[1;32m    553\u001b[0m     \u001b[0;32mdef\u001b[0m \u001b[0mforward\u001b[0m\u001b[0;34m(\u001b[0m\u001b[0mself\u001b[0m\u001b[0;34m,\u001b[0m \u001b[0minput\u001b[0m\u001b[0;34m:\u001b[0m \u001b[0mTensor\u001b[0m\u001b[0;34m)\u001b[0m \u001b[0;34m->\u001b[0m \u001b[0mTensor\u001b[0m\u001b[0;34m:\u001b[0m\u001b[0;34m\u001b[0m\u001b[0;34m\u001b[0m\u001b[0m\n\u001b[0;32m--> 554\u001b[0;31m         \u001b[0;32mreturn\u001b[0m \u001b[0mself\u001b[0m\u001b[0;34m.\u001b[0m\u001b[0m_conv_forward\u001b[0m\u001b[0;34m(\u001b[0m\u001b[0minput\u001b[0m\u001b[0;34m,\u001b[0m \u001b[0mself\u001b[0m\u001b[0;34m.\u001b[0m\u001b[0mweight\u001b[0m\u001b[0;34m,\u001b[0m \u001b[0mself\u001b[0m\u001b[0;34m.\u001b[0m\u001b[0mbias\u001b[0m\u001b[0;34m)\u001b[0m\u001b[0;34m\u001b[0m\u001b[0;34m\u001b[0m\u001b[0m\n\u001b[0m\u001b[1;32m    555\u001b[0m \u001b[0;34m\u001b[0m\u001b[0m\n\u001b[1;32m    556\u001b[0m \u001b[0;34m\u001b[0m\u001b[0m\n",
            "\u001b[0;32m/usr/local/lib/python3.11/dist-packages/torch/nn/modules/conv.py\u001b[0m in \u001b[0;36m_conv_forward\u001b[0;34m(self, input, weight, bias)\u001b[0m\n\u001b[1;32m    547\u001b[0m                 \u001b[0mself\u001b[0m\u001b[0;34m.\u001b[0m\u001b[0mgroups\u001b[0m\u001b[0;34m,\u001b[0m\u001b[0;34m\u001b[0m\u001b[0;34m\u001b[0m\u001b[0m\n\u001b[1;32m    548\u001b[0m             )\n\u001b[0;32m--> 549\u001b[0;31m         return F.conv2d(\n\u001b[0m\u001b[1;32m    550\u001b[0m             \u001b[0minput\u001b[0m\u001b[0;34m,\u001b[0m \u001b[0mweight\u001b[0m\u001b[0;34m,\u001b[0m \u001b[0mbias\u001b[0m\u001b[0;34m,\u001b[0m \u001b[0mself\u001b[0m\u001b[0;34m.\u001b[0m\u001b[0mstride\u001b[0m\u001b[0;34m,\u001b[0m \u001b[0mself\u001b[0m\u001b[0;34m.\u001b[0m\u001b[0mpadding\u001b[0m\u001b[0;34m,\u001b[0m \u001b[0mself\u001b[0m\u001b[0;34m.\u001b[0m\u001b[0mdilation\u001b[0m\u001b[0;34m,\u001b[0m \u001b[0mself\u001b[0m\u001b[0;34m.\u001b[0m\u001b[0mgroups\u001b[0m\u001b[0;34m\u001b[0m\u001b[0;34m\u001b[0m\u001b[0m\n\u001b[1;32m    551\u001b[0m         )\n",
            "\u001b[0;31mKeyboardInterrupt\u001b[0m: "
          ]
        }
      ]
    },
    {
      "cell_type": "markdown",
      "source": [
        "# Visualizing model predictions on noisy inputs"
      ],
      "metadata": {
        "id": "cCrbOJHfzem6"
      }
    },
    {
      "cell_type": "code",
      "source": [
        "x,y=next(iter(train_loader))\n",
        "x=x[:8]\n",
        "\n",
        "amount=torch.linspace(0,1,x.shape[0])\n",
        "noised_x=corrupt(x,amount)\n",
        "\n",
        "with torch.no_grad():\n",
        "  preds=net(noised_x.to(device)).detach().cpu()\n",
        "\n",
        "fig,axs=plt.subplots(3,1,figsize=(12,7))\n",
        "axs[0].set_title(\"Input data\")\n",
        "axs[0].imshow(torchvision.utils.make_grid(x)[0].clip(0,1),cmap=\"Greys\")\n",
        "axs[0].imshow(torchvision.utils.make_grid(x)[0].clip(0, 1), cmap=\"Greys\")\n",
        "axs[1].set_title(\"Corrupted data\")\n",
        "axs[1].imshow(torchvision.utils.make_grid(noised_x)[0].clip(0, 1), cmap=\"Greys\")\n",
        "axs[2].set_title(\"Network Predictions\")\n",
        "axs[2].imshow(torchvision.utils.make_grid(preds)[0].clip(0, 1), cmap=\"Greys\")\n"
      ],
      "metadata": {
        "id": "OlnGL4szzkd2"
      },
      "execution_count": null,
      "outputs": []
    },
    {
      "cell_type": "markdown",
      "source": [
        "# Sampling"
      ],
      "metadata": {
        "id": "bHEXRAvpcKoc"
      }
    },
    {
      "cell_type": "code",
      "source": [
        "n_steps=5\n",
        "x=torch.rand(8,1,28,28).to(device)\n",
        "step_history=[x.detach().cpu()]\n",
        "pred_output_history=[]\n",
        "\n",
        "for i in range(n_steps):\n",
        "  with torch.no_grad():\n",
        "    pred=net(x)\n",
        "  pred_output_history.append(pred.detach().cpu())\n",
        "  mix_factor=1/(n_steps-i)\n",
        "  x=x*(1-mix_factor) + pred*mix_factor\n",
        "  step_history.append(x.detach().cpu())\n",
        "\n",
        "fig,axs = plt.subplots(n_steps,2,figsize=(9,4),sharex=True)\n",
        "axs[0,0].set_title(\"x.(model input)\")\n",
        "axs[0,1].set_title(\"model prediction\")\n",
        "for i in range(n_steps):\n",
        "  axs[i, 0].imshow(torchvision.utils.make_grid(step_history[i])[0].clip(0, 1), cmap=\"Greys\")\n",
        "\n"
      ],
      "metadata": {
        "id": "6GMO7r3RcO-Q"
      },
      "execution_count": null,
      "outputs": []
    },
    {
      "cell_type": "code",
      "source": [
        "n_steps=40\n",
        "x=torch.rand(64,1,28,28).to(device)\n",
        "for i in range(n_steps):\n",
        "  noise_amount=torch.ones((x.shape[0],)).to(device)*(1-(i/n_steps))\n",
        "  with torch.no_grad():\n",
        "    pred=net(x)\n",
        "  mix_factor=1/(n_steps-i)\n",
        "  x=x*(1-mix_factor)+pred*mix_factor\n",
        "fig,ax=plt.subplot(1,1,figsize=(12,12))\n",
        "ax.imshow(torchvision.utils.make_grid(x.detach().cpu(),nrow=8)[0.clip(0,1),cmap=\"Greys\"])"
      ],
      "metadata": {
        "id": "usDbTvI0fQqU"
      },
      "execution_count": null,
      "outputs": []
    },
    {
      "cell_type": "markdown",
      "source": [
        "# Improved Model"
      ],
      "metadata": {
        "id": "pSfW1tKTgnwL"
      }
    },
    {
      "cell_type": "code",
      "source": [
        "model=UNet2DModel(\n",
        "    sample_size=28,\n",
        "    in_channels=1,\n",
        "    out_channels=1,\n",
        "    layers_per_block=2, # No.of ResNet layers per UNet block\n",
        "    block_out_channels=(32,64,62)\n",
        "    down_block_types=(\n",
        "        \"DownBlock2D\", # a regular ResNet downsampling block\n",
        "        \"AttnDownBlock2D\",# a ResNet downsampling block with spatial self-attention\n",
        "        \"AttnDownBlock2D\"\n",
        "    ),\n",
        "\n",
        "    up_block_types=(\n",
        "        \"AttnUpBlock2D\",\n",
        "        \"AttnUpBlock2D\",\n",
        "        \"UpBlock2D\"\n",
        "    ),\n",
        ")\n",
        "\n",
        "print(model)\n",
        "\n",
        "\n"
      ],
      "metadata": {
        "id": "3FdscFgUgq3N"
      },
      "execution_count": null,
      "outputs": []
    },
    {
      "cell_type": "markdown",
      "source": [
        "| Name             | Normalizes Over                          | Good For                | Sensitive to Batch Size? | Learnable Params      | Works in Inference?        |\n",
        "| ---------------- | ---------------------------------------- | ----------------------- | ------------------------ | --------------------- | -------------------------- |\n",
        "| **BatchNorm**    | Batch × Spatial (N × H × W)              | CNNs, large batch sizes | ✅ Yes                    | ✅ Yes (scale + shift) | ✅ Yes (uses running stats) |\n",
        "| **LayerNorm**    | All features per sample (C × H × W or D) | NLP, transformers, RNNs | ❌ No                     | ✅ Yes                 | ✅ Yes                      |\n",
        "| **GroupNorm**    | Groups of channels (G groups in C)       | CNNs, small batch sizes | ❌ No                     | ✅ Yes                 | ✅ Yes                      |\n",
        "| **InstanceNorm** | Per-sample, per-channel (H × W only)     | Style transfer          | ❌ No                     | ✅ Yes                 | ✅ Yes                      |\n",
        "| **PixelNorm**    | Per-pixel (across channels)              | GANs (StyleGAN)         | ❌ No                     | ❌ No                  | ✅ Yes                      |\n",
        "| **WeightNorm**   | Weights, not activations (layer weights) | RNNs, GANs              | ❌ No                     | ✅ Yes                 | ✅ Yes                      |\n",
        "| **SpectralNorm** | Weight matrix singular values            | GANs (stability)        | ❌ No                     | ❌ No                  | ✅ Yes                      |\n"
      ],
      "metadata": {
        "id": "hAp8iFyGxkqQ"
      }
    },
    {
      "cell_type": "markdown",
      "source": [
        "Normalization Axis (for [N, C, H, W]):\n",
        "\n",
        "BatchNorm     → across N, H, W  → per channel\n",
        "LayerNorm     → across C, H, W  → per sample\n",
        "InstanceNorm  → across H, W     → per sample, per channel\n",
        "GroupNorm     → across H, W in grouped channels → per sample\n"
      ],
      "metadata": {
        "id": "Ly9SSxqtxyO5"
      }
    },
    {
      "cell_type": "markdown",
      "source": [
        " 1.**GroupNorm(32, 64, eps=1e-05, affine=True)**\n",
        "\n",
        "This is a **Group Normalization** layer:\n",
        "\n",
        "* **`32`**: Number of groups to divide the 64 channels into → each group will have 2 channels (64/32 = 2).\n",
        "* **`64`**: Number of input channels.\n",
        "* **`eps=1e-5`**: A small epsilon added to avoid divide-by-zero errors.\n",
        "* **`affine=True`**: The layer learns a scale and bias after normalization, like BatchNorm.\n",
        "\n",
        "✅ **Purpose**: Normalize input features before feeding into attention layers; helps with stable training even for small batch sizes (unlike BatchNorm).\n",
        "\n",
        "---\n",
        "\n",
        "2. **query: Linear(in\\_features=64, out\\_features=64, bias=True)**\n",
        "\n",
        "3. **key: Linear(in\\_features=64, out\\_features=64, bias=True)**\n",
        "\n",
        "4. **value: Linear(in\\_features=64, out\\_features=64, bias=True)**\n",
        "\n",
        "These are standard components of **self-attention**:\n",
        "\n",
        "* Each of these is a **fully connected layer** (`Linear`) that projects the input tensor into:\n",
        "\n",
        "  * **Query (Q)**,\n",
        "  * **Key (K)**,\n",
        "  * **Value (V)** spaces.\n",
        "\n",
        "* All layers take:\n",
        "\n",
        "  * `in_features=64`: the number of features (channels) in the input tensor.\n",
        "  * `out_features=64`: keeping dimensionality the same after projection.\n",
        "  * `bias=True`: allows learning a bias term in the linear transformation.\n",
        "\n",
        "✅ **Purpose**: Compute attention weights via:\n",
        "\n",
        "$$\n",
        "\\text{Attention}(Q, K, V) = \\text{softmax}\\left(\\frac{QK^T}{\\sqrt{d_k}}\\right)V\n",
        "$$\n",
        "---\n",
        " 5. **proj\\_attn: Linear(in\\_features=64, out\\_features=64, bias=True)**\n",
        "\n",
        "* After calculating the attention-weighted output (which is still in value-space), this layer projects the result back into the original feature space.\n",
        "* Think of this as the \"output\" transformation of the attention mechanism.\n",
        "\n",
        "✅ **Purpose**: Aggregate and transform the attended information into a final representation, ready to be passed on.\n",
        "\n",
        "---\n",
        "\n",
        " Summary Table\n",
        "\n",
        "| Layer       | Role                              | Details                        |\n",
        "| ----------- | --------------------------------- | ------------------------------ |\n",
        "| `GroupNorm` | Normalize input features          | Uses 32 groups for 64 channels |\n",
        "| `query`     | Linear transformation to Q vector | 64→64 features                 |\n",
        "| `key`       | Linear transformation to K vector | 64→64 features                 |\n",
        "| `value`     | Linear transformation to V vector | 64→64 features                 |\n",
        "| `proj_attn` | Final linear projection           | 64→64 features                 |\n",
        "\n",
        "---\n",
        "\n",
        "\n"
      ],
      "metadata": {
        "id": "bBGPbR4WppmR"
      }
    },
    {
      "cell_type": "code",
      "source": [
        "UNet2DModel(\n",
        "    (conv_in):Conv2d(1,32,kernel_size=(3,3),stride=(1,1),padding=(1,1))\n",
        "    (time_proj):Timesteps()\n",
        "    (time_embedding):TimestepEmbedding(\n",
        "        (linear_1):Linear(in_features=32,out_features=128,bias=True)\n",
        "        (act):SiLU()\n",
        "        (linear_2):Linear(in_features=128,out_features=128,bias=True)\n",
        "    )\n",
        "    (down_blocks):ModuleList(\n",
        "        (0):DownBlock2D(\n",
        "            (resnets):ModuleList(\n",
        "                (0):ResnetBlock2D(\n",
        "                    (norm1):GroupNorm(32,32,eps=1e-05,affine=True)\n",
        "                    (conv1):Conv2d(32,32,kernel_size=(3,3),stride=(1,1),padding=(1,1))\n",
        "                    (time_emb_proj):Linear(in_features=128,out_features=32,bias=True)\n",
        "                    (norm2):GroupNorm(32,32,kernel_size=(3,3),stride=(1,1),padding(1,1,))\n",
        "                    (dropout):Dropout(p=0.0,inplace=False)\n",
        "                    (conv2)=Conv2d(32,32),kernel-size=(3,3),stride=(1,1),padding=(1,1))\n",
        "                    (nonlinearity):SiLU()\n",
        "            )\n",
        "                (1):ResnetBlock2D((norm1): GroupNorm(32, 32, eps=1e-05, affine=True)\n",
        "                    (conv1): Conv2d(32, 32, kernel_size=(3, 3), stride=(1, 1), padding=(1, 1))\n",
        "                    (time_emb_proj): Linear(in_features=128, out_features=32, bias=True)\n",
        "                    (norm2): GroupNorm(32, 32, eps=1e-05, affine=True)\n",
        "                    (dropout): Dropout(p=0.0, inplace=False)\n",
        "                    (conv2): Conv2d(32, 32, kernel_size=(3, 3), stride=(1, 1), padding=(1, 1))\n",
        "                    (nonlinearity): SiLU()\n",
        "\n",
        "            )\n",
        "        )\n",
        "        (downsamplers):ModuleList(\n",
        "            (0):Downsample2D(\n",
        "                (conv):Conv2d(32,32,kernel_size=(3,3),stride=(2,2),padding=(1,1))\n",
        "            )\n",
        "        )\n",
        "        (1):AttnDownBlock2D(\n",
        "            (attentions):ModuleList(\n",
        "                (0):AttentionBlock(\n",
        "                    (group_norm):GroupNorm(32,64,eps=1e-05,affine=True)\n",
        "                    (query): Linear(in_features=64, out_features=64, bias=True)\n",
        "                    (key): Linear(in_features=64, out_features=64, bias=True)\n",
        "                    (value): Linear(in_features=64, out_features=64, bias=True)\n",
        "                    (proj_attn): Linear(in_features=64, out_features=64, bias=True)\n",
        "\n",
        "                )\n",
        "                (1): AttentionBlock(\n",
        "                    (group_norm): GroupNorm(32, 64, eps=1e-05, affine=True)\n",
        "                    (query): Linear(in_features=64, out_features=64, bias=True)\n",
        "                    (key): Linear(in_features=64, out_features=64, bias=True)\n",
        "                    (value): Linear(in_features=64, out_features=64, bias=True)\n",
        "                    (proj_attn): Linear(in_features=64, out_features=64, bias=True)\n",
        "               )\n",
        "            )\n",
        "            (resnets):ModuleList(\n",
        "                (0):ResnetBlock2D((norm1): GroupNorm(32, 32, eps=1e-05, affine=True)\n",
        "                    (conv1): Conv2d(32, 64, kernel_size=(3, 3), stride=(1, 1), padding=(1, 1))\n",
        "                    (time_emb_proj): Linear(in_features=128, out_features=64, bias=True)\n",
        "                    (norm2): GroupNorm(32, 64, eps=1e-05, affine=True)\n",
        "                    (dropout): Dropout(p=0.0, inplace=False)\n",
        "                    (conv2): Conv2d(64, 64, kernel_size=(3, 3), stride=(1, 1), padding=(1, 1))\n",
        "                    (nonlinearity): SiLU()\n",
        "                    (conv_shortcut): Conv2d(32, 64, kernel_size=(1, 1), stride=(1, 1)))\n",
        "                (1): ResnetBlock2D(\n",
        "                    norm1): GroupNorm(32, 64, eps=1e-05, affine=True)\n",
        "                    (conv1): Conv2d(64, 64, kernel_size=(3, 3), stride=(1, 1), padding=(1, 1))\n",
        "                    (time_emb_proj): Linear(in_features=128, out_features=64, bias=True)\n",
        "                    (norm2): GroupNorm(32, 64, eps=1e-05, affine=True)\n",
        "                    (dropout): Dropout(p=0.0, inplace=False)\n",
        "                    (conv2): Conv2d(64, 64, kernel_size=(3, 3), stride=(1, 1), padding=(1, 1))\n",
        "                    (nonlinearity): SiLU()\n",
        "\n",
        "            )\n",
        "            (downsamplers):ModuleList(\n",
        "                (0):Downsample2D(\n",
        "                    (conv):Conv2d(64,64,kernel_size=(3,3),stride=(2,2),padding=(1,1))\n",
        "                )\n",
        "            )\n",
        "        )\n",
        "        (2): AttnDownBlock2D(\n",
        "          (attentions):ModuleList(\n",
        "\n",
        "            (0): AttentionBlock(\n",
        "              (group_norm): GroupNorm(32, 64, eps=1e-05, affine=True)\n",
        "              (query): Linear(in_features=64, out_features=64, bias=True)\n",
        "              (key): Linear(in_features=64, out_features=64, bias=True)\n",
        "              (value): Linear(in_features=64, out_features=64, bias=True)\n",
        "              (proj_attn): Linear(in_features=64, out_features=64, bias=True)\n",
        "            )\n",
        "            (1): AttentionBlock(\n",
        "              (group_norm): GroupNorm(32, 64, eps=1e-05, affine=True)\n",
        "              (query): Linear(in_features=64, out_features=64, bias=True)\n",
        "              (key): Linear(in_features=64, out_features=64, bias=True)\n",
        "              (value): Linear(in_features=64, out_features=64, bias=True)\n",
        "              (proj_attn): Linear(in_features=64, out_features=64, bias=True)\n",
        "            )\n",
        "       )\n",
        "          (resnets):ModuleList(\n",
        "              (0): ResnetBlock2D(\n",
        "                (norm1): GroupNorm(32, 64, eps=1e-05, affine=True)\n",
        "                (conv1): Conv2d(64, 64, kernel_size=(3, 3), stride=(1, 1), padding=(1, 1))\n",
        "                (time_emb_proj): Linear(in_features=128, out_features=64, bias=True)\n",
        "                (norm2): GroupNorm(32, 64, eps=1e-05, affine=True)\n",
        "                (dropout): Dropout(p=0.0, inplace=False)\n",
        "                (conv2): Conv2d(64, 64, kernel_size=(3, 3), stride=(1, 1), padding=(1, 1))\n",
        "                (nonlinearity): SiLU()\n",
        "        )\n",
        "              (1): ResnetBlock2D(\n",
        "                (norm1): GroupNorm(32, 64, eps=1e-05, affine=True)\n",
        "                (conv1): Conv2d(64, 64, kernel_size=(3, 3), stride=(1, 1), padding=(1, 1))\n",
        "                (time_emb_proj): Linear(in_features=128, out_features=64, bias=True)\n",
        "                (norm2): GroupNorm(32, 64, eps=1e-05, affine=True)\n",
        "                (dropout): Dropout(p=0.0, inplace=False)\n",
        "                (conv2): Conv2d(64, 64, kernel_size=(3, 3), stride=(1, 1), padding=(1, 1))\n",
        "                (nonlinearity): SiLU()\n",
        "        )\n",
        "\n",
        "\n",
        "          )\n",
        "    )\n",
        "\n",
        "\n",
        "\n",
        "\n",
        ")\n",
        "    (up_blocks): ModuleList(\n",
        "      (0): AttnUpBlock2D(\n",
        "        (attentions): ModuleList(\n",
        "            (0): AttentionBlock(\n",
        "              (group_norm): GroupNorm(32, 64, eps=1e-05, affine=True)\n",
        "              (query): Linear(in_features=64, out_features=64, bias=True)\n",
        "              (key): Linear(in_features=64, out_features=64, bias=True)\n",
        "              (value): Linear(in_features=64, out_features=64, bias=True)\n",
        "              (proj_attn): Linear(in_features=64, out_features=64, bias=True)\n",
        "            )(1): AttentionBlock(\n",
        "              (group_norm): GroupNorm(32, 64, eps=1e-05, affine=True)\n",
        "              (query): Linear(in_features=64, out_features=64, bias=True)\n",
        "              (key): Linear(in_features=64, out_features=64, bias=True)\n",
        "              (value): Linear(in_features=64, out_features=64, bias=True)\n",
        "              (proj_attn): Linear(in_features=64, out_features=64, bias=True)\n",
        "            )\n",
        "            (2): AttentionBlock(\n",
        "              (group_norm): GroupNorm(32, 64, eps=1e-05, affine=True)\n",
        "              (query): Linear(in_features=64, out_features=64, bias=True)\n",
        "              (key): Linear(in_features=64, out_features=64, bias=True)\n",
        "              (value): Linear(in_features=64, out_features=64, bias=True)\n",
        "              (proj_attn): Linear(in_features=64, out_features=64, bias=True)\n",
        "          )\n",
        "          (resnets):ModuleList(\n",
        "              (0): ResnetBlock2D(\n",
        "                (norm1): GroupNorm(32, 128, eps=1e-05, affine=True)\n",
        "                (conv1): Conv2d(128, 64, kernel_size=(3, 3), stride=(1, 1), padding=(1, 1))\n",
        "                (time_emb_proj): Linear(in_features=128, out_features=64, bias=True)\n",
        "                (norm2): GroupNorm(32, 64, eps=1e-05, affine=True)\n",
        "                (dropout): Dropout(p=0.0, inplace=False)\n",
        "                (conv2): Conv2d(64, 64, kernel_size=(3, 3), stride=(1, 1), padding=(1, 1))\n",
        "                (nonlinearity): SiLU()\n",
        "                (conv_shortcut): Conv2d(128, 64, kernel_size=(1, 1), stride=(1, 1))\n",
        "        )\n",
        "              (1): ResnetBlock2D(\n",
        "                (norm1): GroupNorm(32, 128, eps=1e-05, affine=True)\n",
        "                (conv1): Conv2d(128, 64, kernel_size=(3, 3), stride=(1, 1), padding=(1, 1))\n",
        "                (time_emb_proj): Linear(in_features=128, out_features=64, bias=True)\n",
        "                (norm2): GroupNorm(32, 64, eps=1e-05, affine=True)\n",
        "                (dropout): Dropout(p=0.0, inplace=False)\n",
        "                (conv2): Conv2d(64, 64, kernel_size=(3, 3), stride=(1, 1), padding=(1, 1))\n",
        "                (nonlinearity): SiLU()\n",
        "                (conv_shortcut): Conv2d(128, 64, kernel_size=(1, 1), stride=(1, 1))\n",
        "              )\n",
        "              (2): ResnetBlock2D(\n",
        "                (norm1): GroupNorm(32, 128, eps=1e-05, affine=True)\n",
        "                (conv1): Conv2d(128, 64, kernel_size=(3, 3), stride=(1, 1), padding=(1, 1))\n",
        "                (time_emb_proj): Linear(in_features=128, out_features=64, bias=True)\n",
        "                (norm2): GroupNorm(32, 64, eps=1e-05, affine=True)\n",
        "                (dropout): Dropout(p=0.0, inplace=False)\n",
        "                (conv2): Conv2d(64, 64, kernel_size=(3, 3), stride=(1, 1), padding=(1, 1))\n",
        "                (nonlinearity): SiLU()\n",
        "                (conv_shortcut): Conv2d(128, 64, kernel_size=(1, 1), stride=(1, 1))\n",
        "\n",
        "\n",
        "          )\n",
        "\n",
        "          )\n",
        "\n",
        "        )\n",
        "          (upsamplers): ModuleList(\n",
        "        (0): Upsample2D(\n",
        "          (conv): Conv2d(64, 64, kernel_size=(3, 3), stride=(1, 1), padding=(1, 1))\n",
        "        )\n",
        "          )\n",
        "      )\n",
        "      (1): AttnUpBlock2D(\n",
        "      (attentions): ModuleList(\n",
        "        (0): AttentionBlock(\n",
        "          (group_norm): GroupNorm(32, 64, eps=1e-05, affine=True)\n",
        "          (query): Linear(in_features=64, out_features=64, bias=True)\n",
        "          (key): Linear(in_features=64, out_features=64, bias=True)\n",
        "          (value): Linear(in_features=64, out_features=64, bias=True)\n",
        "          (proj_attn): Linear(in_features=64, out_features=64, bias=True)\n",
        "        )\n",
        "        (1): AttentionBlock(\n",
        "          (group_norm): GroupNorm(32, 64, eps=1e-05, affine=True)\n",
        "          (query): Linear(in_features=64, out_features=64, bias=True)\n",
        "          (key): Linear(in_features=64, out_features=64, bias=True)\n",
        "          (value): Linear(in_features=64, out_features=64, bias=True)\n",
        "          (proj_attn): Linear(in_features=64, out_features=64, bias=True)\n",
        "        )\n",
        "        (2): AttentionBlock(\n",
        "          (group_norm): GroupNorm(32, 64, eps=1e-05, affine=True)\n",
        "          (query): Linear(in_features=64, out_features=64, bias=True)\n",
        "          (key): Linear(in_features=64, out_features=64, bias=True)\n",
        "          (value): Linear(in_features=64, out_features=64, bias=True)\n",
        "          (proj_attn): Linear(in_features=64, out_features=64, bias=True)\n",
        "        )\n",
        "      )\n",
        "      (resnets): ModuleList(\n",
        "        (0): ResnetBlock2D(\n",
        "          (norm1): GroupNorm(32, 128, eps=1e-05, affine=True)\n",
        "          (conv1): Conv2d(128, 64, kernel_size=(3, 3), stride=(1, 1), padding=(1, 1))\n",
        "          (time_emb_proj): Linear(in_features=128, out_features=64, bias=True)\n",
        "          (norm2): GroupNorm(32, 64, eps=1e-05, affine=True)\n",
        "          (dropout): Dropout(p=0.0, inplace=False)\n",
        "          (conv2): Conv2d(64, 64, kernel_size=(3, 3), stride=(1, 1), padding=(1, 1))\n",
        "          (nonlinearity): SiLU()\n",
        "          (conv_shortcut): Conv2d(128, 64, kernel_size=(1, 1), stride=(1, 1))\n",
        "        )\n",
        "        (1): ResnetBlock2D(\n",
        "          (norm1): GroupNorm(32, 128, eps=1e-05, affine=True)\n",
        "          (conv1): Conv2d(128, 64, kernel_size=(3, 3), stride=(1, 1), padding=(1, 1))\n",
        "          (time_emb_proj): Linear(in_features=128, out_features=64, bias=True)\n",
        "          (norm2): GroupNorm(32, 64, eps=1e-05, affine=True)\n",
        "          (dropout): Dropout(p=0.0, inplace=False)\n",
        "          (conv2): Conv2d(64, 64, kernel_size=(3, 3), stride=(1, 1), padding=(1, 1))\n",
        "          (nonlinearity): SiLU()\n",
        "          (conv_shortcut): Conv2d(128, 64, kernel_size=(1, 1), stride=(1, 1))\n",
        "        )\n",
        "        (2): ResnetBlock2D(\n",
        "          (norm1): GroupNorm(32, 96, eps=1e-05, affine=True)\n",
        "          (conv1): Conv2d(96, 64, kernel_size=(3, 3), stride=(1, 1), padding=(1, 1))\n",
        "          (time_emb_proj): Linear(in_features=128, out_features=64, bias=True)\n",
        "          (norm2): GroupNorm(32, 64, eps=1e-05, affine=True)\n",
        "          (dropout): Dropout(p=0.0, inplace=False)\n",
        "          (conv2): Conv2d(64, 64, kernel_size=(3, 3), stride=(1, 1), padding=(1, 1))\n",
        "          (nonlinearity): SiLU()\n",
        "          (conv_shortcut): Conv2d(96, 64, kernel_size=(1, 1), stride=(1, 1))\n",
        "        )\n",
        "      )\n",
        "      (upsamplers): ModuleList(\n",
        "        (0): Upsample2D(\n",
        "          (conv): Conv2d(64, 64, kernel_size=(3, 3), stride=(1, 1), padding=(1, 1))\n",
        "        )\n",
        "      )\n",
        "    )\n",
        "      (2):UpBlock2D(\n",
        "          (resnets):ModuleList(\n",
        "              (0): ResnetBlock2D(\n",
        "                (norm1): GroupNorm(32, 96, eps=1e-05, affine=True)\n",
        "                (conv1): Conv2d(96, 32, kernel_size=(3, 3), stride=(1, 1), padding=(1, 1))\n",
        "                (time_emb_proj): Linear(in_features=128, out_features=32, bias=True)\n",
        "                (norm2): GroupNorm(32, 32, eps=1e-05, affine=True)\n",
        "                (dropout): Dropout(p=0.0, inplace=False)\n",
        "                (conv2): Conv2d(32, 32, kernel_size=(3, 3), stride=(1, 1), padding=(1, 1))\n",
        "                (nonlinearity): SiLU()\n",
        "                (conv_shortcut): Conv2d(96, 32, kernel_size=(1, 1), stride=(1, 1))\n",
        "              )\n",
        "              (1): ResnetBlock2D(\n",
        "                (norm1): GroupNorm(32, 64, eps=1e-05, affine=True)\n",
        "                (conv1): Conv2d(64, 32, kernel_size=(3, 3), stride=(1, 1), padding=(1, 1))\n",
        "                (time_emb_proj): Linear(in_features=128, out_features=32, bias=True)\n",
        "                (norm2): GroupNorm(32, 32, eps=1e-05, affine=True)\n",
        "                (dropout): Dropout(p=0.0, inplace=False)\n",
        "                (conv2): Conv2d(32, 32, kernel_size=(3, 3), stride=(1, 1), padding=(1, 1))\n",
        "                (nonlinearity): SiLU()\n",
        "                (conv_shortcut): Conv2d(64, 32, kernel_size=(1, 1), stride=(1, 1))\n",
        "              )\n",
        "              (2): ResnetBlock2D(\n",
        "                (norm1): GroupNorm(32, 64, eps=1e-05, affine=True)\n",
        "                (conv1): Conv2d(64, 32, kernel_size=(3, 3), stride=(1, 1), padding=(1, 1))\n",
        "                (time_emb_proj): Linear(in_features=128, out_features=32, bias=True)\n",
        "                (norm2): GroupNorm(32, 32, eps=1e-05, affine=True)\n",
        "                (dropout): Dropout(p=0.0, inplace=False)\n",
        "                (conv2): Conv2d(32, 32, kernel_size=(3, 3), stride=(1, 1), padding=(1, 1))\n",
        "                (nonlinearity): SiLU()\n",
        "                (conv_shortcut): Conv2d(64, 32, kernel_size=(1, 1), stride=(1, 1))\n",
        "              )\n",
        "\n",
        "          )\n",
        "      )\n",
        "    )\n",
        "    (mid_blocks):UNetMidBlock2D(\n",
        "        (attentions):ModuleList(\n",
        "        (0):AttentionBlock(\n",
        "            (group_norm): GroupNorm(32, 64, eps=1e-05, affine=True)\n",
        "            (query): Linear(in_features=64, out_features=64, bias=True)\n",
        "            (key): Linear(in_features=64, out_features=64, bias=True)\n",
        "            (value): Linear(in_features=64, out_features=64, bias=True)\n",
        "            (proj_attn): Linear(in_features=64, out_features=64, bias=True)\n",
        "\n",
        "        )\n",
        "        )\n",
        "        (resnets):ModuleList(\n",
        "            (0): ResnetBlock2D(\n",
        "              (norm1): GroupNorm(32, 64, eps=1e-05, affine=True)\n",
        "              (conv1): Conv2d(64, 64, kernel_size=(3, 3), stride=(1, 1), padding=(1, 1))\n",
        "              (time_emb_proj): Linear(in_features=128, out_features=64, bias=True)\n",
        "              (norm2): GroupNorm(32, 64, eps=1e-05, affine=True)\n",
        "              (dropout): Dropout(p=0.0, inplace=False)\n",
        "              (conv2): Conv2d(64, 64, kernel_size=(3, 3), stride=(1, 1), padding=(1, 1))\n",
        "              (nonlinearity): SiLU()\n",
        "            )\n",
        "            (1):ResnetBlock2D(\n",
        "                (norm1): GroupNorm(32, 64, eps=1e-05, affine=True)\n",
        "                (conv1): Conv2d(64, 64, kernel_size=(3, 3), stride=(1, 1), padding=(1, 1))\n",
        "                (time_emb_proj): Linear(in_features=128, out_features=64, bias=True)\n",
        "                (norm2): GroupNorm(32, 64, eps=1e-05, affine=True)\n",
        "                (dropout): Dropout(p=0.0, inplace=False)\n",
        "                (conv2): Conv2d(64, 64, kernel_size=(3, 3), stride=(1, 1), padding=(1, 1))\n",
        "                (nonlinearity): SiLU()\n",
        "\n",
        "            )\n",
        "\n",
        "        )\n",
        "    )\n",
        "    (conv_norm_out):GroupNorm(32,32,eps=1e-05,affine=True)\n",
        "    (conv_act):SiLU()\n",
        "    (conv_out):Conv2d(32,1,kernel_size=(3,3),stride=(1,1),padding=(1,1))\n",
        ")\n",
        "\n",
        "\n",
        "\n",
        "\n",
        "\n",
        "\n",
        "\n",
        "\n",
        "\n"
      ],
      "metadata": {
        "id": "a7eMJJmEifep"
      },
      "execution_count": null,
      "outputs": []
    },
    {
      "cell_type": "code",
      "source": [
        "sum([p.numel() for p in model.parameters()])"
      ],
      "metadata": {
        "id": "BVdGkkbbjmxa"
      },
      "execution_count": null,
      "outputs": []
    },
    {
      "cell_type": "code",
      "source": [
        "batch_size = 128\n",
        "train_dataloader = DataLoader(dataset, batch_size=batch_size, shuffle=True)\n",
        "n_epochs = 3\n",
        "\n",
        "net = UNet2DModel(\n",
        "    sample_size=28,  # the target image resolution\n",
        "    in_channels=1,  # the number of input channels, 3 for RGB images\n",
        "    out_channels=1,  # the number of output channels\n",
        "    layers_per_block=2,  # how many ResNet layers to use per UNet block\n",
        "    block_out_channels=(32, 64, 64),  # Roughly matching our basic unet example\n",
        "    down_block_types=(\n",
        "        \"DownBlock2D\",  # a regular ResNet downsampling block\n",
        "        \"AttnDownBlock2D\",  # a ResNet downsampling block with spatial self-attention\n",
        "        \"AttnDownBlock2D\",\n",
        "    ),\n",
        "    up_block_types=(\n",
        "        \"AttnUpBlock2D\",\n",
        "        \"AttnUpBlock2D\",  # a ResNet upsampling block with spatial self-attention\n",
        "        \"UpBlock2D\",  # a regular ResNet upsampling block\n",
        "    ),\n",
        ")\n",
        "\n",
        "net.to(device)\n",
        "loss_fn=nn.MSELoss()\n",
        "opt=torch.optim.Adam(net.parameters(),lr=1e-3)\n",
        "\n",
        "losses=[]\n",
        "\n",
        "for epoch in range(n_epochs):\n",
        "\n",
        "    for x, y in train_dataloader:\n",
        "      # Get some data and prepare the corrupted version\n",
        "        x = x.to(device)  # Data on the GPU\n",
        "        noise_amount = torch.rand(x.shape[0]).to(device)  # Pick random noise amounts\n",
        "        noisy_x = corrupt(x, noise_amount)  # Create our noisy x\n",
        "\n",
        "        # Get the model prediction\n",
        "        pred = net(noisy_x, 0).sample  # <<< Using timestep 0 always, adding .sample\n",
        "\n",
        "        # Calculate the loss\n",
        "        loss = loss_fn(pred, x)  # How close is the output to the true 'clean' x?\n",
        "\n",
        "        # Backprop and update the params:\n",
        "        opt.zero_grad()\n",
        "        loss.backward()\n",
        "        opt.step()\n",
        "\n",
        "        # Store the loss for later\n",
        "        losses.append(loss.item())\n",
        "    # Print our the average of the loss values for this epoch:\n",
        "    avg_loss = sum(losses[-len(train_dataloader) :]) / len(train_dataloader)\n",
        "    print(f\"Finished epoch {epoch}. Average loss for this epoch: {avg_loss:05f}\")\n",
        "\n",
        "# Plot losses and some samples\n",
        "fig, axs = plt.subplots(1, 2, figsize=(12, 5))\n",
        "\n",
        "# Losses\n",
        "axs[0].plot(losses)\n",
        "axs[0].set_ylim(0, 0.1)\n",
        "axs[0].set_title(\"Loss over time\")\n",
        "\n",
        "n_steps=40\n",
        "x=torch.rand(64,1,28,28).to(device)\n",
        "for i in range(n_steps):\n",
        "  noise_amount=torch.ones((x.shape[0],)).to(device)*(1-(i/n_steps))\n",
        "  with torch.no_grad():\n",
        "    pred=net(x,0.sample)\n",
        "  mix_factor=1/(n_steps-i)\n",
        "  x=x*(1-mix_factor)+pred*mix_factor\n",
        "\n",
        "axs[1].imshow(torchvision.utils.make_grid(x.detach().cpu(), nrow=8)[0].clip(0, 1), cmap=\"Greys\")\n",
        "axs[1].set_title(\"Generated Samples\")\n",
        "\n",
        "\n",
        "\n",
        "\n",
        "\n",
        "\n"
      ],
      "metadata": {
        "id": "fmzLBzMDjyDm"
      },
      "execution_count": null,
      "outputs": []
    },
    {
      "cell_type": "markdown",
      "source": [
        "\n",
        "\n",
        " 🧠 Conceptual Background\n",
        "\n",
        "In DDPMs, the forward (noising) process gradually adds Gaussian noise to an image over `T` time steps. The reverse process tries to recover the image from pure noise. The key formula in the forward process is:\n",
        "\n",
        "$$\n",
        "x_t = \\sqrt{\\bar{\\alpha}_t} \\cdot x_0 + \\sqrt{1 - \\bar{\\alpha}_t} \\cdot \\epsilon\n",
        "$$\n",
        "\n",
        "Where:\n",
        "\n",
        "* $x_0$ is the original image.\n",
        "* $\\epsilon \\sim \\mathcal{N}(0, I)$ is Gaussian noise.\n",
        "* $x_t$ is the noisy version at step `t`.\n",
        "* $\\bar{\\alpha}_t = \\prod_{i=1}^t \\alpha_i$ is the cumulative product of noise reduction factors (`alphas`), one for each time step.\n",
        "\n",
        "\n",
        "\n",
        "\n",
        "\n",
        "\n",
        "\n",
        "---\n",
        "\n",
        " What the Plot Shows\n",
        "\n",
        "* Two curves: signal vs. noise over 1000 diffusion steps.\n",
        "* **Signal curve**: decreases from 1 to 0.\n",
        "* **Noise curve**: increases from 0 to 1.\n",
        "* This illustrates how the input image is gradually destroyed (signal weakens, noise strengthens) in the forward process of DDPM.\n",
        "\n",
        "---\n",
        "\n",
        " ✅ Summary Table\n",
        "\n",
        "| Term                        | Meaning                            | Trend     |\n",
        "| --------------------------- | ---------------------------------- | --------- |\n",
        "| $\\sqrt{\\bar{\\alpha}_t}$     | Weight on the original image $x_0$ | Decreases |\n",
        "| $\\sqrt{1 - \\bar{\\alpha}_t}$ | Weight on the noise $\\epsilon$     | Increases |\n",
        "\n",
        "\n",
        "\n"
      ],
      "metadata": {
        "id": "WZnXDnjc2EMQ"
      }
    },
    {
      "cell_type": "code",
      "source": [
        "noise_scheduler=DDPMScheduler(num_train_timesteps=1000)\n",
        "plt.plot(moise_scheduler.alphas_cumprod.cpu()**0.5,label=r\"${\\sqrt{\\bar{\\alpha}_t}}$\")\n",
        "plt.plot((1 - noise_scheduler.alphas_cumprod.cpu()) ** 0.5, label=r\"$\\sqrt{(1 - \\bar{\\alpha}_t)}$\")\n",
        "plt.legend(fontsize=\"x-large\")"
      ],
      "metadata": {
        "id": "zDE-345Dzy5b"
      },
      "execution_count": null,
      "outputs": []
    },
    {
      "cell_type": "code",
      "source": [
        "# Visualizing the DDPM noising process for different timesteps\n",
        "\n",
        "#Noise a batch of images to view th effect\n",
        "fig,axs=plt.subplots(3,1,figsize(16,10))\n",
        "xb,yb=next(iter(train_dataloader))\n",
        "xb=xb.to(device[:8])\n",
        "print(\"X shape\",xb.shape)\n",
        "\n",
        "#Show clean inputs\n",
        "axs[0].imshow(torchvision.utils.make_grid(xb[:8])[0].detach().cpu(),cmap=\"Greys\")\n",
        "axs[0].set_title(\"Clean X\")\n",
        "\n",
        "#Add noise with scheduler\n",
        "timesteps=torch.linspace(0,999,8).long().to(device)\n",
        "noise=torch.randn_like(xb)\n",
        "noisy_xb=noise_scheduler.add_noise(xb,noise,timesteps)\n",
        "print(\"Noisy X shape\",noisy_xb.shape)\n",
        "\n",
        "#Show noisy version(with and without clipping)\n",
        "axs[1].imshow(torchvision.utils.make_grid(noisy_xb[:8][0].detach().cpu().clip(-1,1),cmap=\"Greys\"))\n",
        "axs[1].set_title(\"Noisy X (clipped to (-1, 1)\")\n",
        "axs[2].imshow(torchvision.utils.make_grid(noisy_xb[:8])[0].detach().cpu(), cmap=\"Greys\")\n",
        "axs[2].set_title(\"Noisy X\")"
      ],
      "metadata": {
        "id": "_DbcuYxC2YHA"
      },
      "execution_count": null,
      "outputs": []
    },
    {
      "cell_type": "markdown",
      "source": [
        "In our toy example, we had the model try to predict the denoised image. In DDPM and many other diffusion model implementations, the model predicts the noise used in the corruption process (before scaling, so unit variance noise). In code, it looks something like:"
      ],
      "metadata": {
        "id": "3YHJVcZx6v0D"
      }
    },
    {
      "cell_type": "code",
      "source": [
        "noise=torch.randn_like(xb)\n",
        "noisy_x=noise_scheduler.add_noise(x,noise,timesteps)\n",
        "model_prediction=model(noisy_x,timesteps).sample\n",
        "loss=mse_loss(model_prediction,noise) #noise as the target"
      ],
      "metadata": {
        "id": "YigOMJhz6x5A"
      },
      "execution_count": null,
      "outputs": []
    }
  ]
}